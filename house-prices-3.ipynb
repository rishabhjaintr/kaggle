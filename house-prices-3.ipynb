{
 "cells": [
  {
   "cell_type": "code",
   "execution_count": 65,
   "metadata": {},
   "outputs": [],
   "source": [
    "import pandas as pd\n",
    "import numpy as np\n",
    "\n",
    "from sklearn.base import BaseEstimator, TransformerMixin\n",
    "from sklearn.ensemble import AdaBoostRegressor, GradientBoostingRegressor, RandomForestRegressor, StackingRegressor\n",
    "from sklearn.linear_model import ElasticNet, Lasso, Ridge, LinearRegression\n",
    "from sklearn.neighbors import KNeighborsRegressor\n",
    "from sklearn.svm import SVR\n",
    "from sklearn.metrics import mean_squared_log_error, make_scorer\n",
    "from sklearn.model_selection import GridSearchCV, ShuffleSplit, KFold, cross_validate\n",
    "from sklearn.preprocessing import FunctionTransformer, OneHotEncoder, OrdinalEncoder, QuantileTransformer, MinMaxScaler, StandardScaler, PowerTransformer, RobustScaler\n",
    "from sklearn.compose import ColumnTransformer\n",
    "from sklearn.pipeline import FeatureUnion, Pipeline\n",
    "from sklearn.impute import SimpleImputer\n",
    "from sklearn.decomposition import PCA\n",
    "from sklearn.mixture import GaussianMixture\n",
    "from sklearn.cluster import KMeans\n",
    "from sklearn.manifold import TSNE\n",
    "\n",
    "import matplotlib.pyplot as plt\n",
    "import seaborn as sns\n",
    "\n",
    "from scipy import stats\n",
    "\n",
    "import xgboost as xgb\n",
    "import lightgbm as lgbm\n",
    "import pygam as gam\n",
    "\n",
    "from datetime import datetime\n",
    "\n",
    "import re, itertools, functools, os"
   ]
  },
  {
   "cell_type": "code",
   "execution_count": 2,
   "metadata": {},
   "outputs": [],
   "source": [
    "# load training dataset\n",
    "train_df = pd.read_csv('train.csv')\n",
    "# load submission dataset\n",
    "submission_df = pd.read_csv('test.csv')"
   ]
  },
  {
   "cell_type": "code",
   "execution_count": 3,
   "metadata": {},
   "outputs": [
    {
     "data": {
      "image/png": "[encoded data removed]",
      "text/plain": [
       "<Figure size 432x288 with 1 Axes>"
      ]
     },
     "metadata": {
      "needs_background": "light"
     },
     "output_type": "display_data"
    }
   ],
   "source": [
    "# check distribution of target variable\n",
    "sns.distplot(train_df['SalePrice'])\n",
    "plt.show()"
   ]
  },
  {
   "cell_type": "code",
   "execution_count": 4,
   "metadata": {},
   "outputs": [
    {
     "data": {
      "text/plain": [
       "1.880940746034036"
      ]
     },
     "execution_count": 4,
     "metadata": {},
     "output_type": "execute_result"
    }
   ],
   "source": [
    "# there is a right skew, what's the value?\n",
    "stats.skew(train_df['SalePrice'])"
   ]
  },
  {
   "cell_type": "code",
   "execution_count": 5,
   "metadata": {},
   "outputs": [
    {
     "data": {
      "image/png": "[encoded data removed]",
      "text/plain": [
       "<Figure size 432x288 with 1 Axes>"
      ]
     },
     "metadata": {
      "needs_background": "light"
     },
     "output_type": "display_data"
    },
    {
     "data": {
      "text/plain": [
       "0.12122191311528363"
      ]
     },
     "execution_count": 5,
     "metadata": {},
     "output_type": "execute_result"
    }
   ],
   "source": [
    "# what if we apply a log transformation?\n",
    "sns.distplot(np.log1p(train_df['SalePrice']))\n",
    "plt.show()\n",
    "stats.skew(np.log1p(train_df['SalePrice']))"
   ]
  },
  {
   "cell_type": "code",
   "execution_count": 6,
   "metadata": {},
   "outputs": [
    {
     "data": {
      "text/plain": [
       "PoolQC          0.995205\n",
       "MiscFeature     0.963014\n",
       "Alley           0.937671\n",
       "Fence           0.807534\n",
       "FireplaceQu     0.472603\n",
       "LotFrontage     0.177397\n",
       "GarageCond      0.055479\n",
       "GarageType      0.055479\n",
       "GarageYrBlt     0.055479\n",
       "GarageFinish    0.055479\n",
       "dtype: float64"
      ]
     },
     "execution_count": 6,
     "metadata": {},
     "output_type": "execute_result"
    }
   ],
   "source": [
    "# we will apply the log transformation when making models\n",
    "\n",
    "# let's remove variables with high null values\n",
    "null_rate = train_df.isna().sum() / train_df.shape[0]\n",
    "null_rate.sort_values(ascending=False, inplace=True)\n",
    "null_rate.iloc[:10]"
   ]
  },
  {
   "cell_type": "code",
   "execution_count": 7,
   "metadata": {},
   "outputs": [],
   "source": [
    "# remove above 30%\n",
    "drop = ['PoolQC', 'MiscFeature', 'Alley', 'Fence', 'FireplaceQu']\n",
    "train_df.drop(drop, axis=1, inplace=True)\n",
    "submission_df.drop(drop, axis=1, inplace=True)"
   ]
  },
  {
   "cell_type": "code",
   "execution_count": 8,
   "metadata": {},
   "outputs": [],
   "source": [
    "# there are some obvious features that can be created from the data\n",
    "def feature_engineering(x):\n",
    "    # difference between built and sold\n",
    "    x['HouseAge'] = x['YrSold'].fillna(0) - x['YearBuilt'].fillna(0)\n",
    "    # finished area of basement\n",
    "    x['BsmtFinishedSF'] = x['TotalBsmtSF'].fillna(0) - x['BsmtUnfSF'].fillna(0)\n",
    "    # total finished area\n",
    "    x['GrFinishedSF'] = x['GrLivArea'].fillna(0) - x['LowQualFinSF'].fillna(0)\n",
    "    # total full baths\n",
    "    x['TotalFullBaths'] = x['BsmtFullBath'].fillna(0) + x['FullBath'].fillna(0)\n",
    "    # total half batchs\n",
    "    x['TotalHalfBaths'] = x['BsmtHalfBath'].fillna(0) + x['HalfBath'].fillna(0)\n",
    "    # total porch+deck area\n",
    "    x['TotalPorchDeckArea'] = x[['WoodDeckSF', 'OpenPorchSF', 'EnclosedPorch', '3SsnPorch', 'ScreenPorch']].fillna(0).sum(axis=1)\n",
    "    return x"
   ]
  },
  {
   "cell_type": "code",
   "execution_count": 9,
   "metadata": {},
   "outputs": [],
   "source": [
    "# add features created\n",
    "train_df = feature_engineering(train_df)\n",
    "submission_df = feature_engineering(submission_df)"
   ]
  },
  {
   "cell_type": "code",
   "execution_count": 10,
   "metadata": {},
   "outputs": [],
   "source": [
    "# some functions to plot distributions/scatter plots\n",
    "def plot_numeric_distribution(data, variable: str, bins=50):\n",
    "    \"\"\"\n",
    "    Plot distribution of variable.\n",
    "    \"\"\"\n",
    "    # set up two subplots\n",
    "    fig, ax = plt.subplots(1, 2, figsize=(15, 7))\n",
    "    ax = ax.flatten()\n",
    "    # one a simple distribution plot\n",
    "    sns.distplot(data[variable], bins=bins, ax=ax[0])\n",
    "    ax[0].set_title('Distribution')\n",
    "    # do a cumulative dist\n",
    "    sns.distplot(data[variable], bins=bins, hist_kws={'cumulative': True}, kde_kws={'cumulative': True})\n",
    "    ax[1].set_title('Cumulative Distribution')\n",
    "    # title\n",
    "    fig.suptitle(variable, fontsize=14)\n",
    "    plt.show()\n",
    "\n",
    "\n",
    "def bootstrap(x, fraction: float=0.3, times: int=300, alpha=0.05):\n",
    "    \"\"\"\n",
    "    Samples x multiple times and returns mean, and upper and lower bounds of alpha.\n",
    "    \"\"\"\n",
    "    arr = np.zeros(times)\n",
    "    size = x.shape[0]\n",
    "    sample_size = int(size * fraction)\n",
    "    for i in range(times):\n",
    "        # sample\n",
    "        s = np.random.choice(x, size=sample_size, replace=False).mean()\n",
    "        # calculate mean\n",
    "        arr[i] = s\n",
    "    # return actual mean, calculated mean, and upper/lower bounds\n",
    "    lower, median, upper = np.quantile(arr, [alpha / 2, 0.5, 1 - alpha / 2])\n",
    "    return pd.Series({\n",
    "        'actual mean': x.mean(), 'bootstrap mean': arr.mean(), \n",
    "        'bootstrap median': median, 'lower bound': lower, 'upper bound': upper})\n",
    "\n",
    "\n",
    "def plot_categorical_distribution(data, variable: str, max_display: int=20, return_data=False):\n",
    "    \"\"\"\n",
    "    Plot distribution of categorical variable - along with confidence bounds.\n",
    "    \"\"\"\n",
    "    # for each value, including NaN, create column\n",
    "    save = pd.DataFrame()\n",
    "    for value in data[variable].unique():\n",
    "        if value is np.nan:\n",
    "            save['_nan'] = data[variable].isna().astype(int)\n",
    "        else:\n",
    "            save[value] = (data[variable] == value).astype(int)\n",
    "    # for each column, apply bootstrap\n",
    "    result = save.apply(bootstrap, axis=0).T\n",
    "    \n",
    "    # if result size is greater than max_display, cap it\n",
    "    copy = None\n",
    "    if result.shape[0] > max_display:\n",
    "        print('Reducing Size.')\n",
    "        copy = result.copy(deep=True)\n",
    "        result.sort_values('bootstrap mean', ascending=False, inplace=True)\n",
    "        result = result.iloc[:max_display]\n",
    "    \n",
    "    # create plot\n",
    "    fig, ax = plt.subplots(1, 1, figsize=(15, 7))\n",
    "    # plot bootstrap mean\n",
    "    ax.bar(result.index, result['bootstrap mean'])\n",
    "    lower_bound = result['bootstrap mean'] - result['lower bound']\n",
    "    upper_bound = - result['bootstrap mean'] + result['upper bound']\n",
    "    ax.errorbar(result.index, result['bootstrap mean'], yerr=[lower_bound, upper_bound], linestyle='', color='black')\n",
    "    ax.set_title(variable, fontsize=15)\n",
    "    plt.show()\n",
    "    if return_data:\n",
    "        if copy is not None:\n",
    "            return copy\n",
    "        else:\n",
    "            return result\n",
    "    else:\n",
    "        return None\n",
    "    \n",
    "def plot_scatter(data: pd.DataFrame, x: str, y: str, categorical: bool) -> None:\n",
    "    \"\"\"\n",
    "    Produces a scatter plot for x vs y - y should be numeric!\n",
    "    \"\"\"\n",
    "    plt.figure(figsize=(15, 7))\n",
    "    if not categorical:\n",
    "        plt.scatter(data[x], data[y])\n",
    "        plt.title('{} vs {} Scatterplot'.format(x, y))\n",
    "        plt.show()\n",
    "    elif categorical:\n",
    "        sns.boxplot(y=data[y], x=data[x].fillna('_nan'))\n",
    "        plt.title('{} vs {} Scatterplot'.format(x, y))\n",
    "        plt.show()\n",
    "    else:\n",
    "        raise Exception('Invalid categorical bool')"
   ]
  },
  {
   "cell_type": "code",
   "execution_count": 11,
   "metadata": {},
   "outputs": [],
   "source": [
    "# a summarizing to plot both, distribution and scatter\n",
    "def plot_dist_and_scatter(data, x, y, categorical):\n",
    "    if categorical:\n",
    "        plot_categorical_distribution(data, x)\n",
    "        plot_scatter(data, x, y, categorical=True)\n",
    "    else:\n",
    "        plot_numeric_distribution(data, x)\n",
    "        plot_scatter(data, x, y, categorical=False)"
   ]
  },
  {
   "cell_type": "code",
   "execution_count": 12,
   "metadata": {},
   "outputs": [],
   "source": [
    "limits = {\n",
    "    'BsmtFinSF1': [0, 3000],\n",
    "    'BsmtFinSF2': [0, 1200],\n",
    "    'TotalBsmtSF': [0, 4000],\n",
    "    '1stFlrSF': [0, 4000],\n",
    "    'GrLivArea': [0, 4000],\n",
    "    'BsmtFullBath': [0, 2],\n",
    "    'BsmtHalfBath': [0, 1],\n",
    "    'BedroomAbvGr': [0, 6],\n",
    "    'KitchenAbvGr': [1, 2],\n",
    "    'TotRmsAbvGrd': [3, 12],\n",
    "    'GarageArea': [0, 1300],\n",
    "    'WoodDeckSF': [0, 800],\n",
    "    'OpenPorchSF': [0, 500],\n",
    "    'EnclosedPorch': [0, 500],\n",
    "    '3SsnPorch': [0, 500],\n",
    "    'ScreenPorch': [0, 450],\n",
    "    'BsmtFinishedSF': [0, 3000],\n",
    "    'GrFinishedSF': [0, 4000],\n",
    "    'TotalFullBaths': [1, 6],\n",
    "    'TotalHalfBaths': [0, 2],\n",
    "    'TotalPorchDeckArea': [0, 900]\n",
    "}"
   ]
  },
  {
   "cell_type": "code",
   "execution_count": 13,
   "metadata": {},
   "outputs": [],
   "source": [
    "# let's apply the various limits\n",
    "def outliers(rules, data):\n",
    "    rules_list = []\n",
    "    for k, v in rules.items():\n",
    "        cond = (data[k] >= v[0]) & (data[k] <= v[1])\n",
    "        rules_list.append(cond)\n",
    "    return rules_list\n",
    "\n",
    "outlier_ids = train_df.loc[~pd.concat(outliers(limits, train_df), axis=1).apply(np.all, axis=1), 'Id']"
   ]
  },
  {
   "cell_type": "code",
   "execution_count": 14,
   "metadata": {},
   "outputs": [],
   "source": [
    "# now we want to encode categoricals as binary, ordinal, or one hot encode if necessary, and lastly numeric\n",
    "feature_encoding = {\n",
    "    'ordinal': {'ExterQual': ['Po', 'Fa', 'TA', 'Gd', 'Ex'], 'ExterCond': ['Po', 'Fa', 'TA', 'Gd', 'Ex'],\n",
    "                'BsmtQual': ['Po', 'Fa', 'TA', 'Gd', 'Ex'], 'BsmtCond': ['Po', 'Fa', 'TA', 'Gd', 'Ex'],\n",
    "                'BsmtExposure': ['No', 'Mn', 'Av', 'Gd'], 'BsmtFinType1': ['Unf', 'LwQ', 'Rec', 'BLQ', 'ALQ', 'GLQ'],\n",
    "                'BsmtFinType2': ['Unf', 'LwQ', 'Rec', 'BLQ', 'ALQ', 'GLQ'], 'HeatingQC': ['Po', 'Fa', 'TA', 'Gd', 'Ex'],\n",
    "                'KitchenQual': ['Po', 'Fa', 'TA', 'Gd', 'Ex'], 'GarageFinish': ['Unf', 'RFn', 'Fin'],\n",
    "                'GarageQual': ['Po', 'Fa', 'TA', 'Gd', 'Ex'], 'GarageCond': ['Po', 'Fa', 'TA', 'Gd', 'Ex']},\n",
    "    'onehot': ['MSSubClass', 'MSZoning', 'Street', \n",
    "               'LandContour', 'LotShape', 'LotConfig', \n",
    "               'LandSlope', 'Neighborhood', 'Condition1',\n",
    "               'BldgType', 'HouseStyle', 'OverallCond',\n",
    "               'RoofStyle', 'Exterior1st', 'Exterior2nd',\n",
    "               'MasVnrType', 'Foundation', 'BsmtExposure',\n",
    "               'GarageType', 'PavedDrive', 'MoSold',\n",
    "               'SaleType', 'SaleCondition'],\n",
    "    'binary': {'OverallCond': 5, 'CentralAir': 'Y', 'Electrical': 'SBrkr'},\n",
    "    'numeric': ['LotFrontage', 'LotArea', 'OverallQual', \n",
    "                'YearBuilt', 'YearRemodAdd', 'MasVnrArea',\n",
    "                'BsmtFinSF1', 'BsmtFinSF2', 'BsmtUnfSF',\n",
    "                'TotalBsmtSF', '1stFlrSF', '2ndFlrSF',\n",
    "                'GrLivArea', 'BsmtFullBath', 'BsmtHalfBath',\n",
    "                'FullBath', 'HalfBath', 'BedroomAbvGr',\n",
    "                'KitchenAbvGr', 'TotRmsAbvGrd', 'Fireplaces',\n",
    "                'GarageCars', 'GarageArea', 'WoodDeckSF',\n",
    "                'OpenPorchSF', 'EnclosedPorch', '3SsnPorch',\n",
    "                'ScreenPorch', 'HouseAge', 'BsmtFinishedSF',\n",
    "                'GrFinishedSF', 'TotalFullBaths', 'TotalHalfBaths'],\n",
    "    'remove': ['Utilities', 'Condition2', 'RoofMatl',\n",
    "               'Heating', 'LowQualFinSF', 'Functional',\n",
    "               'GarageYrBlt', 'PoolArea', 'MiscVal',\n",
    "               'YrSold']\n",
    "}"
   ]
  },
  {
   "cell_type": "code",
   "execution_count": 15,
   "metadata": {},
   "outputs": [],
   "source": [
    "# remove columns\n",
    "train_df.drop(feature_encoding['remove'], axis=1, inplace=True)\n",
    "submission_df.drop(feature_encoding['remove'], axis=1, inplace=True)"
   ]
  },
  {
   "cell_type": "code",
   "execution_count": 16,
   "metadata": {},
   "outputs": [],
   "source": [
    "# apply ordinal encodings\n",
    "def apply_ordinal_encoding(encodings, data):\n",
    "    # since we don't want to modify the original dataset, return a new one\n",
    "    save = pd.DataFrame(index=data.index)\n",
    "    for k, v in encodings.items():\n",
    "        # prepare a mapping for each\n",
    "        mapping = {category: integer + 1 for integer, category in enumerate(v)}\n",
    "        # mapping will be a dict like {cat1: 1, cat2: 2...}\n",
    "        \n",
    "        # now apply that mapping to data\n",
    "        save[k] = data[k].map(mapping).fillna(0)\n",
    "        \n",
    "    return save\n",
    "\n",
    "# create a new dataframe for modeling\n",
    "X_train = apply_ordinal_encoding(feature_encoding['ordinal'], train_df)\n",
    "X_submission = apply_ordinal_encoding(feature_encoding['ordinal'], submission_df)"
   ]
  },
  {
   "cell_type": "code",
   "execution_count": 17,
   "metadata": {},
   "outputs": [],
   "source": [
    "# apply binary encoding\n",
    "def apply_binary_encoding(encodings, data):\n",
    "    # instead of modifying the original, return a new dataframe\n",
    "    save = pd.DataFrame(index=data.index)\n",
    "    for k, v in encodings.items():\n",
    "        # if string\n",
    "        if isinstance(v, str):\n",
    "            save[k + '__{}'.format(v)] = (data[k] == v).astype(int)\n",
    "        # else it's a number\n",
    "        else:\n",
    "            save[k + '__gte_{}'.format(v)] = (data[k] >= v).astype(int)\n",
    "            \n",
    "    return save\n",
    "\n",
    "# get the encoding and add to data\n",
    "X_train = pd.concat([X_train, apply_binary_encoding(feature_encoding['binary'], train_df)], axis=1)\n",
    "X_submission = pd.concat([X_submission, apply_binary_encoding(feature_encoding['binary'], submission_df)], axis=1)"
   ]
  },
  {
   "cell_type": "code",
   "execution_count": 18,
   "metadata": {},
   "outputs": [],
   "source": [
    "# apply one hot encoding\n",
    "class MyOneHotEncoder(BaseEstimator, TransformerMixin):\n",
    "    def __init__(self, columns, threshold=0.05):\n",
    "        \"\"\"\n",
    "        Parameters\n",
    "        ----------\n",
    "        columns: list\n",
    "            List of columns to apply one-hot encoding on\n",
    "        threshold: float\n",
    "            Minimum proportion required for a category to appear\n",
    "        \"\"\"\n",
    "        self.columns = columns\n",
    "        self.threshold = threshold\n",
    "        self.categories = {}\n",
    "    \n",
    "    def fit(self, X, y=None):\n",
    "        # make sure X has all columns\n",
    "        if not np.all(list(map(lambda x: x in X.columns, self.columns))):\n",
    "            raise Exception(\"\"\"Error while fitting. Passed data does not have all columns to be transformed.\"\"\")\n",
    "        \n",
    "        # get size\n",
    "        size = X.shape[0]\n",
    "        \n",
    "        # loop through columns\n",
    "        for c in self.columns:\n",
    "            # get value counts\n",
    "            vc = X[c].value_counts() / size\n",
    "            # for all values that are above threshold add to categories\n",
    "            eligible = vc[vc >= self.threshold].index.tolist()\n",
    "            # add\n",
    "            if len(eligible) > 0:\n",
    "                self.categories[c] = eligible\n",
    "        return self\n",
    "    \n",
    "    def transform(self, X, y=None):\n",
    "        # make sure X has all columns that actually will be transformed\n",
    "        if not np.all(list(map(lambda x: x in X.columns, self.categories.keys()))):\n",
    "            raise Exception(\"\"\"Error while transforming. Passed data does not have all columns to be transformed.\"\"\")\n",
    "        \n",
    "        # list to save all transformations\n",
    "        save = []\n",
    "        \n",
    "        # loop\n",
    "        for k, v in self.categories.items():\n",
    "            # get binary 1, 0 for each category\n",
    "            categories = pd.concat(list(map(lambda x: (X[k] == x).astype(int), v)), axis=1)\n",
    "            # change column names to add prefix\n",
    "            categories.columns = [k + '__{}'.format(x) for x in v]\n",
    "            # add to save\n",
    "            save.append(categories)\n",
    "        \n",
    "        # return\n",
    "        return pd.concat(save, axis=1)"
   ]
  },
  {
   "cell_type": "code",
   "execution_count": 19,
   "metadata": {},
   "outputs": [],
   "source": [
    "# fit on training data\n",
    "myOneHotEncoder = MyOneHotEncoder(columns=feature_encoding['onehot']).fit(train_df)\n",
    "\n",
    "# get the transformation and append\n",
    "X_train = pd.concat([X_train, myOneHotEncoder.transform(train_df)], axis=1)\n",
    "X_submission = pd.concat([X_submission, myOneHotEncoder.transform(submission_df)], axis=1)"
   ]
  },
  {
   "cell_type": "code",
   "execution_count": 20,
   "metadata": {},
   "outputs": [],
   "source": [
    "# lastly add numeric columns\n",
    "X_train = pd.concat([X_train, train_df[feature_encoding['numeric']]], axis=1)\n",
    "X_submission = pd.concat([X_submission, submission_df[feature_encoding['numeric']]], axis=1)"
   ]
  },
  {
   "cell_type": "code",
   "execution_count": 21,
   "metadata": {},
   "outputs": [],
   "source": [
    "# impute using medians - which would adjust for outliers\n",
    "impute = SimpleImputer(strategy='median').fit(X_train)\n",
    "\n",
    "# transform\n",
    "X_train = pd.DataFrame(impute.transform(X_train), index=X_train.index, columns=X_train.columns)\n",
    "X_submission = pd.DataFrame(impute.transform(X_submission), index=X_submission.index, columns=X_submission.columns)"
   ]
  },
  {
   "cell_type": "code",
   "execution_count": 22,
   "metadata": {
    "scrolled": true
   },
   "outputs": [
    {
     "name": "stderr",
     "output_type": "stream",
     "text": [
      "d:\\software-installs\\anaconda3\\envs\\tensorflow-gpu-2\\lib\\site-packages\\numpy\\core\\_methods.py:205: RuntimeWarning: overflow encountered in multiply\n",
      "  x = um.multiply(x, x, out=x)\n"
     ]
    }
   ],
   "source": [
    "# overall scaling\n",
    "scaling = PowerTransformer().fit(X_train)\n",
    "\n",
    "# apply\n",
    "X_train_scaled = pd.DataFrame(scaling.transform(X_train), index=X_train.index, columns=X_train.columns)\n",
    "X_submission_scaled = pd.DataFrame(scaling.transform(X_submission), index=X_submission.index, columns=X_submission.columns)"
   ]
  },
  {
   "cell_type": "code",
   "execution_count": 41,
   "metadata": {},
   "outputs": [
    {
     "data": {
      "text/plain": [
       "((1460, 92), (1460, 121))"
      ]
     },
     "execution_count": 41,
     "metadata": {},
     "output_type": "execute_result"
    }
   ],
   "source": [
    "# let's do some additional transformations and test those\n",
    "\n",
    "# PCA\n",
    "pca = PCA(n_components=0.99).fit(X_train_scaled)\n",
    "\n",
    "# apply\n",
    "X_train_transformed = pd.DataFrame(pca.transform(X_train_scaled), index=X_train.index)\n",
    "X_submission_transformed = pd.DataFrame(pca.transform(X_submission_scaled), index=X_submission.index)\n",
    "\n",
    "# components?\n",
    "X_train_transformed.shape, X_train_scaled.shape"
   ]
  },
  {
   "cell_type": "code",
   "execution_count": 60,
   "metadata": {},
   "outputs": [],
   "source": [
    "# KMeans\n",
    "kmeans = KMeans(random_state=11, n_clusters=4, tol=1e-7).fit(X_train_scaled)\n",
    "scaler = PowerTransformer().fit(kmeans.predict(X_train_scaled).reshape(-1, 1))\n",
    "\n",
    "# apply\n",
    "X_train_transformed = X_train_scaled.copy(deep=True)\n",
    "X_train_transformed['kmeans'] = scaler.transform(kmeans.predict(X_train_scaled).reshape(-1, 1))"
   ]
  },
  {
   "cell_type": "code",
   "execution_count": 121,
   "metadata": {},
   "outputs": [],
   "source": [
    "# prepare scorer, RMSLE - note that np.expm1 is applied since y will be log transformed\n",
    "def rmsle(y, y_pred):\n",
    "    return -np.sqrt(mean_squared_log_error(np.expm1(y), np.expm1(y_pred)))\n",
    "rmsle = make_scorer(rmsle, greater_is_better=False, needs_proba=False, needs_threshold=False)"
   ]
  },
  {
   "cell_type": "code",
   "execution_count": 24,
   "metadata": {},
   "outputs": [],
   "source": [
    "# function to quickly evaluate models\n",
    "def quick_validation(\n",
    "    estimator,\n",
    "    X,\n",
    "    y=np.log1p(train_df.loc[~X_train.index.isin(outlier_ids.index), 'SalePrice']),\n",
    "    scoring=rmsle,\n",
    "):\n",
    "    splitter = ShuffleSplit(n_splits=30, test_size=0.2, random_state=11).split(X)\n",
    "    cv_result = cross_validate(\n",
    "        estimator=estimator,\n",
    "        X=X,\n",
    "        y=y,\n",
    "        scoring=scoring,\n",
    "        n_jobs=12,\n",
    "        cv=splitter,\n",
    "        return_train_score=True,\n",
    "        error_score=-1\n",
    "    )\n",
    "    # print means and decay\n",
    "    print('Train: {:.6f}, Test: {:.6f}, Decay: {:.1%}'.format(\n",
    "        np.mean(cv_result['train_score']),\n",
    "        np.mean(cv_result['test_score']),\n",
    "        np.mean(cv_result['test_score']) / np.mean(cv_result['train_score']) - 1\n",
    "    ))\n",
    "    \n",
    "    return np.mean(cv_result['train_score']), np.mean(cv_result['test_score'])"
   ]
  },
  {
   "cell_type": "code",
   "execution_count": 103,
   "metadata": {},
   "outputs": [
    {
     "name": "stdout",
     "output_type": "stream",
     "text": [
      "Train: 0.104480, Test: 0.117491, Decay: 12.5%\n"
     ]
    },
    {
     "data": {
      "text/plain": [
       "(0.10447958522147462, 0.1174908652704567)"
      ]
     },
     "execution_count": 103,
     "metadata": {},
     "output_type": "execute_result"
    }
   ],
   "source": [
    "# lasso model\n",
    "lasso = Lasso(\n",
    "    alpha=0.001,\n",
    "    tol=1e-6,\n",
    "    random_state=11,\n",
    "    max_iter=2000,\n",
    "    selection='cyclic'\n",
    ")\n",
    "\n",
    "quick_validation(lasso, X_train_scaled.loc[~X_train.index.isin(outlier_ids.index)])"
   ]
  },
  {
   "cell_type": "code",
   "execution_count": 104,
   "metadata": {},
   "outputs": [
    {
     "name": "stdout",
     "output_type": "stream",
     "text": [
      "Train: 0.102610, Test: 0.120935, Decay: 17.9%\n"
     ]
    },
    {
     "data": {
      "text/plain": [
       "(0.10260988522380989, 0.12093503255720948)"
      ]
     },
     "execution_count": 104,
     "metadata": {},
     "output_type": "execute_result"
    }
   ],
   "source": [
    "# linear model\n",
    "lm = LinearRegression(n_jobs=12)\n",
    "\n",
    "quick_validation(lm, X_train_scaled.loc[~X_train.index.isin(outlier_ids.index)])"
   ]
  },
  {
   "cell_type": "code",
   "execution_count": 105,
   "metadata": {},
   "outputs": [
    {
     "name": "stdout",
     "output_type": "stream",
     "text": [
      "Train: 0.102700, Test: 0.119290, Decay: 16.2%\n"
     ]
    },
    {
     "data": {
      "text/plain": [
       "(0.10270034227707295, 0.11928986427780698)"
      ]
     },
     "execution_count": 105,
     "metadata": {},
     "output_type": "execute_result"
    }
   ],
   "source": [
    "# ridge\n",
    "ridge = Ridge(tol=1e-7, alpha=5.0, max_iter=1000)\n",
    "\n",
    "quick_validation(ridge, X_train_scaled.loc[~X_train.index.isin(outlier_ids.index)])"
   ]
  },
  {
   "cell_type": "code",
   "execution_count": 99,
   "metadata": {},
   "outputs": [
    {
     "name": "stdout",
     "output_type": "stream",
     "text": [
      "Train: 0.110462, Test: 0.120605, Decay: 9.2%\n"
     ]
    },
    {
     "data": {
      "text/plain": [
       "(0.11046152864077179, 0.12060508847699182)"
      ]
     },
     "execution_count": 99,
     "metadata": {},
     "output_type": "execute_result"
    }
   ],
   "source": [
    "# elasticnet\n",
    "elasticnet = ElasticNet(\n",
    "    alpha=.05,\n",
    "    l1_ratio=0.001,\n",
    "    max_iter=2000,\n",
    "    tol=1e-6,\n",
    "    positive=True,\n",
    "    selection='cyclic',\n",
    "    random_state=11\n",
    ")\n",
    "\n",
    "quick_validation(elasticnet, X_train_scaled.loc[~X_train.index.isin(outlier_ids.index)])"
   ]
  },
  {
   "cell_type": "code",
   "execution_count": 29,
   "metadata": {},
   "outputs": [
    {
     "name": "stdout",
     "output_type": "stream",
     "text": [
      "Train: 0.102822, Test: 0.127196, Decay: 23.7%\n"
     ]
    },
    {
     "data": {
      "text/plain": [
       "(0.10282246527906182, 0.1271962243182699)"
      ]
     },
     "execution_count": 29,
     "metadata": {},
     "output_type": "execute_result"
    }
   ],
   "source": [
    "# gradient boosting\n",
    "gbm = GradientBoostingRegressor(\n",
    "    loss='huber',\n",
    "    learning_rate=0.1,\n",
    "    n_estimators=100,\n",
    "    subsample=0.9,\n",
    "    min_samples_split=0.1,\n",
    "    min_samples_leaf=0.05,\n",
    "    max_depth=3,\n",
    "    random_state=11,\n",
    "    alpha=0.9,\n",
    ")\n",
    "\n",
    "quick_validation(gbm, X_train_scaled.loc[~X_train.index.isin(outlier_ids.index)])"
   ]
  },
  {
   "cell_type": "code",
   "execution_count": 30,
   "metadata": {},
   "outputs": [
    {
     "name": "stdout",
     "output_type": "stream",
     "text": [
      "Train: 0.120673, Test: 0.128444, Decay: 6.4%\n"
     ]
    },
    {
     "data": {
      "text/plain": [
       "(0.12067325111848852, 0.12844389360834602)"
      ]
     },
     "execution_count": 30,
     "metadata": {},
     "output_type": "execute_result"
    }
   ],
   "source": [
    "# extreme gbm\n",
    "xgbm = xgb.XGBRegressor(\n",
    "    n_estimators=500,\n",
    "    max_depth=5,\n",
    "    learning_rate=0.5,\n",
    "    verbosity=2,\n",
    "    objective='reg:squaredlogerror',\n",
    "    booster='gblinear',\n",
    "#     tree_method='',\n",
    "    n_jobs=12,\n",
    "    gamma=0.0001,\n",
    "#     min_child_weight=100,\n",
    "#     max_delta_step=50.0,\n",
    "    subsample=0.8,\n",
    "    colsample_bytree=1.0,\n",
    "    colsample_bylevel=0.9,\n",
    "    colsample_bynode=0.9,\n",
    "    reg_alpha=0.00001,\n",
    "    reg_lambda=0.001,\n",
    "    random_state=11,\n",
    "    importance='total_gain',\n",
    ")\n",
    "quick_validation(xgbm, X_train.loc[~X_train.index.isin(outlier_ids.index)])"
   ]
  },
  {
   "cell_type": "code",
   "execution_count": 126,
   "metadata": {},
   "outputs": [],
   "source": [
    "# let's perform hyper-parameter tuning on all models above\n",
    "\n",
    "# prepare scorer, RMSLE - note that np.expm1 is applied since y will be log transformed\n",
    "def rmsle_tuning(y, y_pred):\n",
    "    return np.sqrt(mean_squared_log_error(np.expm1(y), np.expm1(y_pred)))\n",
    "rmsle_tuning = make_scorer(rmsle_tuning, greater_is_better=False, needs_proba=False, needs_threshold=False)"
   ]
  },
  {
   "cell_type": "code",
   "execution_count": 143,
   "metadata": {},
   "outputs": [
    {
     "name": "stdout",
     "output_type": "stream",
     "text": [
      "Fitting 30 folds for each of 5 candidates, totalling 150 fits\n"
     ]
    },
    {
     "name": "stderr",
     "output_type": "stream",
     "text": [
      "[Parallel(n_jobs=12)]: Using backend LokyBackend with 12 concurrent workers.\n",
      "[Parallel(n_jobs=12)]: Done   1 tasks      | elapsed:    0.1s\n",
      "[Parallel(n_jobs=12)]: Done   8 tasks      | elapsed:    0.2s\n",
      "[Parallel(n_jobs=12)]: Done  17 tasks      | elapsed:    0.5s\n",
      "[Parallel(n_jobs=12)]: Done  26 tasks      | elapsed:    0.7s\n",
      "[Parallel(n_jobs=12)]: Done  37 tasks      | elapsed:    0.9s\n",
      "[Parallel(n_jobs=12)]: Done  48 tasks      | elapsed:    1.2s\n",
      "[Parallel(n_jobs=12)]: Done  61 tasks      | elapsed:    1.4s\n",
      "[Parallel(n_jobs=12)]: Done  74 tasks      | elapsed:    1.7s\n",
      "[Parallel(n_jobs=12)]: Done  89 tasks      | elapsed:    1.9s\n",
      "[Parallel(n_jobs=12)]: Batch computation too fast (0.1977s.) Setting batch_size=2.\n",
      "[Parallel(n_jobs=12)]: Done 104 tasks      | elapsed:    1.9s\n",
      "[Parallel(n_jobs=12)]: Done 121 tasks      | elapsed:    2.0s\n",
      "[Parallel(n_jobs=12)]: Done 143 out of 150 | elapsed:    2.0s remaining:    0.0s\n",
      "[Parallel(n_jobs=12)]: Done 150 out of 150 | elapsed:    2.1s finished\n"
     ]
    },
    {
     "name": "stdout",
     "output_type": "stream",
     "text": [
      "   rank      test     train     decay\n",
      "0     2 -0.117904 -0.103472  0.139483\n",
      "1     1 -0.117491 -0.104480  0.124534\n",
      "2     3 -0.125912 -0.117308  0.073351\n",
      "3     4 -0.211648 -0.204568  0.034607\n",
      "4     5 -0.305630 -0.298276  0.024657\n"
     ]
    },
    {
     "data": {
      "text/plain": [
       "Lasso(alpha=0.001, max_iter=2000, random_state=11, tol=1e-07)"
      ]
     },
     "execution_count": 143,
     "metadata": {},
     "output_type": "execute_result"
    }
   ],
   "source": [
    "params = dict(\n",
    "    alpha=[0.0005, 0.001, 0.01, 0.1, 0.2],\n",
    "    tol=[1e-7],\n",
    "    random_state=[11],\n",
    "    selection=['cyclic'],\n",
    "    max_iter=[2000]\n",
    ")\n",
    "\n",
    "lasso = GridSearchCV(\n",
    "    estimator=Lasso(),\n",
    "    param_grid=params,\n",
    "    scoring=rmsle_tuning,\n",
    "    n_jobs=12,\n",
    "    cv=ShuffleSplit(30, test_size=0.2, random_state=11).split(X_train.loc[~X_train.index.isin(outlier_ids.index)]),\n",
    "    verbose=10,\n",
    "    error_score=np.nan,\n",
    "    return_train_score=True\n",
    ")\n",
    "\n",
    "lasso.fit(\n",
    "    X_train_scaled.loc[~X_train.index.isin(outlier_ids.index)],\n",
    "    np.log1p(train_df.loc[~X_train.index.isin(outlier_ids.index), 'SalePrice'])\n",
    ")\n",
    "print(pd.DataFrame({'rank': lasso.cv_results_['rank_test_score'], 'test': lasso.cv_results_['mean_test_score'], 'train': lasso.cv_results_['mean_train_score'],\n",
    "                    'decay': lasso.cv_results_['mean_test_score'] / lasso.cv_results_['mean_train_score'] - 1}))\n",
    "lasso.best_estimator_"
   ]
  },
  {
   "cell_type": "code",
   "execution_count": 146,
   "metadata": {},
   "outputs": [
    {
     "name": "stdout",
     "output_type": "stream",
     "text": [
      "Fitting 30 folds for each of 9 candidates, totalling 270 fits\n"
     ]
    },
    {
     "name": "stderr",
     "output_type": "stream",
     "text": [
      "[Parallel(n_jobs=12)]: Using backend LokyBackend with 12 concurrent workers.\n",
      "[Parallel(n_jobs=12)]: Done   1 tasks      | elapsed:    0.0s\n",
      "[Parallel(n_jobs=12)]: Batch computation too fast (0.0350s.) Setting batch_size=2.\n",
      "[Parallel(n_jobs=12)]: Done   8 tasks      | elapsed:    0.0s\n",
      "[Parallel(n_jobs=12)]: Done  17 tasks      | elapsed:    0.0s\n",
      "[Parallel(n_jobs=12)]: Batch computation too fast (0.1450s.) Setting batch_size=4.\n",
      "[Parallel(n_jobs=12)]: Done  28 tasks      | elapsed:    0.1s\n",
      "[Parallel(n_jobs=12)]: Done  50 tasks      | elapsed:    0.1s\n",
      "[Parallel(n_jobs=12)]: Done  72 tasks      | elapsed:    0.2s\n",
      "[Parallel(n_jobs=12)]: Batch computation too fast (0.1280s.) Setting batch_size=8.\n",
      "[Parallel(n_jobs=12)]: Done 124 tasks      | elapsed:    0.3s\n"
     ]
    },
    {
     "name": "stdout",
     "output_type": "stream",
     "text": [
      "   rank      test     train     decay\n",
      "0     9 -0.120936 -0.102609  0.178611\n",
      "1     8 -0.120936 -0.102609  0.178608\n",
      "2     7 -0.120930 -0.102609  0.178550\n",
      "3     6 -0.120872 -0.102609  0.177982\n",
      "4     5 -0.120809 -0.102609  0.177375\n",
      "5     4 -0.120750 -0.102610  0.176790\n",
      "6     3 -0.120693 -0.102610  0.176227\n",
      "7     2 -0.120638 -0.102611  0.175683\n",
      "8     1 -0.120585 -0.102612  0.175158\n"
     ]
    },
    {
     "name": "stderr",
     "output_type": "stream",
     "text": [
      "[Parallel(n_jobs=12)]: Done 270 out of 270 | elapsed:    0.5s finished\n"
     ]
    },
    {
     "data": {
      "text/plain": [
       "Ridge(alpha=0.6, max_iter=2000, random_state=11, tol=1e-07)"
      ]
     },
     "execution_count": 146,
     "metadata": {},
     "output_type": "execute_result"
    }
   ],
   "source": [
    "params = dict(\n",
    "    alpha=[0.0005, 0.001, 0.01, 0.1, 0.2, 0.3, 0.4, 0.5, 0.6],\n",
    "    tol=[1e-7],\n",
    "    random_state=[11],\n",
    "    max_iter=[2000]\n",
    ")\n",
    "\n",
    "ridge = GridSearchCV(\n",
    "    estimator=Ridge(),\n",
    "    param_grid=params,\n",
    "    scoring=rmsle_tuning,\n",
    "    n_jobs=12,\n",
    "    cv=ShuffleSplit(30, test_size=0.2, random_state=11).split(X_train.loc[~X_train.index.isin(outlier_ids.index)]),\n",
    "    verbose=10,\n",
    "    error_score=np.nan,\n",
    "    return_train_score=True\n",
    ")\n",
    "\n",
    "ridge.fit(\n",
    "    X_train_scaled.loc[~X_train.index.isin(outlier_ids.index)],\n",
    "    np.log1p(train_df.loc[~X_train.index.isin(outlier_ids.index), 'SalePrice'])\n",
    ")\n",
    "print(pd.DataFrame({'rank': ridge.cv_results_['rank_test_score'], 'test': ridge.cv_results_['mean_test_score'], 'train': ridge.cv_results_['mean_train_score'],\n",
    "                    'decay': ridge.cv_results_['mean_test_score'] / ridge.cv_results_['mean_train_score'] - 1}))\n",
    "ridge.best_estimator_"
   ]
  },
  {
   "cell_type": "code",
   "execution_count": 148,
   "metadata": {
    "scrolled": true
   },
   "outputs": [
    {
     "name": "stdout",
     "output_type": "stream",
     "text": [
      "Fitting 30 folds for each of 48 candidates, totalling 1440 fits\n"
     ]
    },
    {
     "name": "stderr",
     "output_type": "stream",
     "text": [
      "[Parallel(n_jobs=12)]: Using backend LokyBackend with 12 concurrent workers.\n",
      "[Parallel(n_jobs=12)]: Done   1 tasks      | elapsed:    0.3s\n",
      "[Parallel(n_jobs=12)]: Done   8 tasks      | elapsed:    0.3s\n",
      "[Parallel(n_jobs=12)]: Done  17 tasks      | elapsed:    0.8s\n",
      "[Parallel(n_jobs=12)]: Done  26 tasks      | elapsed:    1.1s\n",
      "[Parallel(n_jobs=12)]: Done  37 tasks      | elapsed:    1.5s\n",
      "[Parallel(n_jobs=12)]: Done  48 tasks      | elapsed:    1.8s\n",
      "[Parallel(n_jobs=12)]: Done  61 tasks      | elapsed:    2.3s\n",
      "[Parallel(n_jobs=12)]: Done  74 tasks      | elapsed:    2.7s\n",
      "[Parallel(n_jobs=12)]: Done  89 tasks      | elapsed:    3.2s\n",
      "[Parallel(n_jobs=12)]: Done 104 tasks      | elapsed:    3.7s\n",
      "[Parallel(n_jobs=12)]: Done 121 tasks      | elapsed:    4.2s\n",
      "[Parallel(n_jobs=12)]: Done 138 tasks      | elapsed:    4.7s\n",
      "[Parallel(n_jobs=12)]: Done 157 tasks      | elapsed:    5.2s\n",
      "[Parallel(n_jobs=12)]: Done 176 tasks      | elapsed:    5.7s\n",
      "[Parallel(n_jobs=12)]: Done 197 tasks      | elapsed:    6.2s\n",
      "[Parallel(n_jobs=12)]: Done 218 tasks      | elapsed:    6.7s\n",
      "[Parallel(n_jobs=12)]: Done 241 tasks      | elapsed:    7.4s\n",
      "[Parallel(n_jobs=12)]: Done 264 tasks      | elapsed:    8.1s\n",
      "[Parallel(n_jobs=12)]: Done 289 tasks      | elapsed:    9.1s\n",
      "[Parallel(n_jobs=12)]: Done 314 tasks      | elapsed:   10.0s\n",
      "[Parallel(n_jobs=12)]: Done 341 tasks      | elapsed:   10.8s\n",
      "[Parallel(n_jobs=12)]: Done 368 tasks      | elapsed:   11.5s\n",
      "[Parallel(n_jobs=12)]: Done 397 tasks      | elapsed:   12.2s\n",
      "[Parallel(n_jobs=12)]: Done 426 tasks      | elapsed:   12.9s\n",
      "[Parallel(n_jobs=12)]: Done 457 tasks      | elapsed:   13.6s\n",
      "[Parallel(n_jobs=12)]: Done 488 tasks      | elapsed:   14.2s\n",
      "[Parallel(n_jobs=12)]: Done 521 tasks      | elapsed:   14.7s\n",
      "[Parallel(n_jobs=12)]: Done 554 tasks      | elapsed:   15.2s\n",
      "[Parallel(n_jobs=12)]: Done 589 tasks      | elapsed:   15.5s\n",
      "[Parallel(n_jobs=12)]: Done 624 tasks      | elapsed:   15.9s\n",
      "[Parallel(n_jobs=12)]: Done 661 tasks      | elapsed:   16.2s\n",
      "[Parallel(n_jobs=12)]: Done 698 tasks      | elapsed:   16.6s\n",
      "[Parallel(n_jobs=12)]: Done 737 tasks      | elapsed:   17.0s\n",
      "[Parallel(n_jobs=12)]: Batch computation too fast (0.1949s.) Setting batch_size=2.\n",
      "[Parallel(n_jobs=12)]: Batch computation too fast (0.1920s.) Setting batch_size=4.\n",
      "[Parallel(n_jobs=12)]: Done 784 tasks      | elapsed:   17.3s\n",
      "[Parallel(n_jobs=12)]: Done 916 tasks      | elapsed:   17.8s\n",
      "[Parallel(n_jobs=12)]: Done 1080 tasks      | elapsed:   18.4s\n",
      "[Parallel(n_jobs=12)]: Done 1252 tasks      | elapsed:   19.0s\n",
      "[Parallel(n_jobs=12)]: Done 1440 out of 1440 | elapsed:   19.4s finished\n"
     ]
    },
    {
     "name": "stdout",
     "output_type": "stream",
     "text": [
      "    rank      test     train     decay\n",
      "0     24 -0.120567 -0.102612  0.174979\n",
      "1     23 -0.120536 -0.102613  0.174667\n",
      "2     22 -0.120303 -0.102624  0.172280\n",
      "3     19 -0.120038 -0.102645  0.169448\n",
      "4     15 -0.119396 -0.102744  0.162075\n",
      "5     13 -0.118657 -0.102957  0.152482\n",
      "6      7 -0.118197 -0.103206  0.145249\n",
      "7      6 -0.118013 -0.103363  0.141738\n",
      "8     21 -0.120271 -0.102621  0.171993\n",
      "9     20 -0.120216 -0.102623  0.171426\n",
      "10    17 -0.119815 -0.102658  0.167134\n",
      "11    16 -0.119403 -0.102722  0.162382\n",
      "12    12 -0.118546 -0.102975  0.151210\n",
      "13     5 -0.117852 -0.103488  0.138791\n",
      "14     4 -0.117543 -0.104037  0.129826\n",
      "15     2 -0.117495 -0.104315  0.126351\n",
      "16    10 -0.118369 -0.102940  0.149889\n",
      "17     8 -0.118204 -0.103013  0.147469\n",
      "18     3 -0.117509 -0.103766  0.132438\n",
      "19     1 -0.117393 -0.104675  0.121503\n",
      "20    14 -0.118760 -0.107293  0.106877\n",
      "21    26 -0.121028 -0.111245  0.087935\n",
      "22    30 -0.123365 -0.114273  0.079560\n",
      "23    31 -0.124918 -0.116121  0.075762\n",
      "24     9 -0.118283 -0.106203  0.113749\n",
      "25    11 -0.118545 -0.106897  0.108963\n",
      "26    27 -0.121596 -0.112336  0.082428\n",
      "27    32 -0.126206 -0.117949  0.070011\n",
      "28    36 -0.139898 -0.132923  0.052475\n",
      "29    38 -0.164208 -0.157254  0.044224\n",
      "30    40 -0.188156 -0.181165  0.038588\n",
      "31    42 -0.202208 -0.195196  0.035920\n",
      "32    18 -0.119972 -0.109032  0.100342\n",
      "33    25 -0.120668 -0.110282  0.094175\n",
      "34    33 -0.127442 -0.119263  0.068584\n",
      "35    35 -0.136936 -0.129730  0.055544\n",
      "36    39 -0.165605 -0.158792  0.042901\n",
      "37    43 -0.213032 -0.205780  0.035240\n",
      "38    44 -0.263033 -0.255824  0.028179\n",
      "39    46 -0.289079 -0.281875  0.025560\n",
      "40    28 -0.121802 -0.111530  0.092093\n",
      "41    29 -0.122955 -0.113291  0.085297\n",
      "42    34 -0.133971 -0.126229  0.061330\n",
      "43    37 -0.147778 -0.140896  0.048843\n",
      "44    41 -0.191205 -0.184277  0.037596\n",
      "45    45 -0.265605 -0.258069  0.029203\n",
      "46    47 -0.331312 -0.323705  0.023501\n",
      "47    48 -0.364366 -0.356702  0.021486\n"
     ]
    },
    {
     "data": {
      "text/plain": [
       "ElasticNet(alpha=0.01, l1_ratio=0.1, max_iter=2000, random_state=11, tol=1e-07)"
      ]
     },
     "execution_count": 148,
     "metadata": {},
     "output_type": "execute_result"
    }
   ],
   "source": [
    "params = dict(\n",
    "    alpha=[0.0005, 0.001, 0.01, 0.1, 0.2, 0.3],\n",
    "    l1_ratio=[0.005, 0.01, 0.05, 0.1, 0.25, 0.5, 0.75, 0.9],\n",
    "    tol=[1e-7],\n",
    "    random_state=[11],\n",
    "    max_iter=[2000],\n",
    "    selection=['cyclic']\n",
    ")\n",
    "\n",
    "elasticnet = GridSearchCV(\n",
    "    estimator=ElasticNet(),\n",
    "    param_grid=params,\n",
    "    scoring=rmsle_tuning,\n",
    "    n_jobs=12,\n",
    "    cv=ShuffleSplit(30, test_size=0.2, random_state=11).split(X_train.loc[~X_train.index.isin(outlier_ids.index)]),\n",
    "    verbose=10,\n",
    "    error_score=np.nan,\n",
    "    return_train_score=True\n",
    ")\n",
    "\n",
    "elasticnet.fit(\n",
    "    X_train_scaled.loc[~X_train.index.isin(outlier_ids.index)],\n",
    "    np.log1p(train_df.loc[~X_train.index.isin(outlier_ids.index), 'SalePrice'])\n",
    ")\n",
    "print(pd.DataFrame({\n",
    "    'rank': elasticnet.cv_results_['rank_test_score'], \n",
    "    'test': elasticnet.cv_results_['mean_test_score'], \n",
    "    'train': elasticnet.cv_results_['mean_train_score'],\n",
    "    'decay': elasticnet.cv_results_['mean_test_score'] / elasticnet.cv_results_['mean_train_score'] - 1})).sort_values('rank').iloc[:20]\n",
    "elasticnet.best_estimator_"
   ]
  },
  {
   "cell_type": "code",
   "execution_count": 151,
   "metadata": {},
   "outputs": [
    {
     "name": "stdout",
     "output_type": "stream",
     "text": [
      "Fitting 10 folds for each of 10368 candidates, totalling 103680 fits\n"
     ]
    },
    {
     "name": "stderr",
     "output_type": "stream",
     "text": [
      "[Parallel(n_jobs=12)]: Using backend LokyBackend with 12 concurrent workers.\n",
      "[Parallel(n_jobs=12)]: Done   1 tasks      | elapsed:    1.9s\n",
      "[Parallel(n_jobs=12)]: Done   8 tasks      | elapsed:    2.0s\n",
      "[Parallel(n_jobs=12)]: Done  17 tasks      | elapsed:    2.1s\n",
      "[Parallel(n_jobs=12)]: Done  26 tasks      | elapsed:    2.2s\n",
      "[Parallel(n_jobs=12)]: Done  37 tasks      | elapsed:    2.4s\n",
      "[Parallel(n_jobs=12)]: Done  48 tasks      | elapsed:    2.5s\n",
      "[Parallel(n_jobs=12)]: Done  61 tasks      | elapsed:    2.6s\n",
      "[Parallel(n_jobs=12)]: Done  74 tasks      | elapsed:    2.8s\n",
      "[Parallel(n_jobs=12)]: Done  89 tasks      | elapsed:    3.0s\n",
      "[Parallel(n_jobs=12)]: Done 104 tasks      | elapsed:    3.2s\n",
      "[Parallel(n_jobs=12)]: Done 121 tasks      | elapsed:    3.4s\n",
      "[Parallel(n_jobs=12)]: Done 138 tasks      | elapsed:    3.6s\n",
      "[Parallel(n_jobs=12)]: Done 157 tasks      | elapsed:    3.8s\n",
      "[Parallel(n_jobs=12)]: Done 176 tasks      | elapsed:    4.1s\n",
      "[Parallel(n_jobs=12)]: Done 197 tasks      | elapsed:    4.3s\n",
      "[Parallel(n_jobs=12)]: Done 218 tasks      | elapsed:    4.6s\n",
      "[Parallel(n_jobs=12)]: Done 241 tasks      | elapsed:    4.8s\n",
      "[Parallel(n_jobs=12)]: Done 264 tasks      | elapsed:    5.1s\n",
      "[Parallel(n_jobs=12)]: Done 289 tasks      | elapsed:    5.4s\n",
      "[Parallel(n_jobs=12)]: Done 314 tasks      | elapsed:    5.7s\n",
      "[Parallel(n_jobs=12)]: Done 341 tasks      | elapsed:    6.1s\n",
      "[Parallel(n_jobs=12)]: Done 368 tasks      | elapsed:    6.4s\n",
      "[Parallel(n_jobs=12)]: Done 397 tasks      | elapsed:    6.8s\n",
      "[Parallel(n_jobs=12)]: Done 426 tasks      | elapsed:    7.1s\n",
      "[Parallel(n_jobs=12)]: Done 457 tasks      | elapsed:    7.5s\n",
      "[Parallel(n_jobs=12)]: Done 488 tasks      | elapsed:    7.8s\n",
      "[Parallel(n_jobs=12)]: Done 521 tasks      | elapsed:    8.3s\n",
      "[Parallel(n_jobs=12)]: Done 554 tasks      | elapsed:    8.6s\n",
      "[Parallel(n_jobs=12)]: Done 589 tasks      | elapsed:    9.0s\n",
      "[Parallel(n_jobs=12)]: Done 624 tasks      | elapsed:    9.4s\n",
      "[Parallel(n_jobs=12)]: Done 661 tasks      | elapsed:    9.9s\n",
      "[Parallel(n_jobs=12)]: Done 698 tasks      | elapsed:   10.3s\n",
      "[Parallel(n_jobs=12)]: Done 737 tasks      | elapsed:   10.7s\n",
      "[Parallel(n_jobs=12)]: Done 776 tasks      | elapsed:   11.2s\n",
      "[Parallel(n_jobs=12)]: Done 817 tasks      | elapsed:   11.6s\n",
      "[Parallel(n_jobs=12)]: Done 858 tasks      | elapsed:   12.1s\n",
      "[Parallel(n_jobs=12)]: Done 901 tasks      | elapsed:   12.6s\n",
      "[Parallel(n_jobs=12)]: Done 944 tasks      | elapsed:   13.1s\n",
      "[Parallel(n_jobs=12)]: Done 989 tasks      | elapsed:   13.6s\n",
      "[Parallel(n_jobs=12)]: Done 1034 tasks      | elapsed:   14.1s\n",
      "[Parallel(n_jobs=12)]: Done 1081 tasks      | elapsed:   14.7s\n",
      "[Parallel(n_jobs=12)]: Done 1128 tasks      | elapsed:   15.2s\n",
      "[Parallel(n_jobs=12)]: Done 1177 tasks      | elapsed:   15.9s\n",
      "[Parallel(n_jobs=12)]: Done 1226 tasks      | elapsed:   16.5s\n",
      "[Parallel(n_jobs=12)]: Done 1277 tasks      | elapsed:   17.1s\n",
      "[Parallel(n_jobs=12)]: Done 1328 tasks      | elapsed:   17.8s\n",
      "[Parallel(n_jobs=12)]: Done 1381 tasks      | elapsed:   18.5s\n",
      "[Parallel(n_jobs=12)]: Done 1434 tasks      | elapsed:   19.2s\n",
      "[Parallel(n_jobs=12)]: Done 1489 tasks      | elapsed:   19.9s\n",
      "[Parallel(n_jobs=12)]: Done 1544 tasks      | elapsed:   20.7s\n",
      "[Parallel(n_jobs=12)]: Done 1601 tasks      | elapsed:   21.4s\n",
      "[Parallel(n_jobs=12)]: Done 1658 tasks      | elapsed:   22.1s\n",
      "[Parallel(n_jobs=12)]: Done 1717 tasks      | elapsed:   22.7s\n",
      "[Parallel(n_jobs=12)]: Done 1776 tasks      | elapsed:   23.4s\n",
      "[Parallel(n_jobs=12)]: Done 1837 tasks      | elapsed:   24.1s\n",
      "[Parallel(n_jobs=12)]: Done 1898 tasks      | elapsed:   24.8s\n",
      "[Parallel(n_jobs=12)]: Done 1961 tasks      | elapsed:   25.6s\n",
      "[Parallel(n_jobs=12)]: Done 2024 tasks      | elapsed:   26.2s\n",
      "[Parallel(n_jobs=12)]: Done 2089 tasks      | elapsed:   27.0s\n",
      "[Parallel(n_jobs=12)]: Done 2154 tasks      | elapsed:   27.7s\n",
      "[Parallel(n_jobs=12)]: Done 2221 tasks      | elapsed:   29.8s\n",
      "[Parallel(n_jobs=12)]: Done 2288 tasks      | elapsed:   31.7s\n",
      "[Parallel(n_jobs=12)]: Done 2357 tasks      | elapsed:   33.8s\n",
      "[Parallel(n_jobs=12)]: Done 2426 tasks      | elapsed:   36.0s\n",
      "[Parallel(n_jobs=12)]: Done 2497 tasks      | elapsed:   38.3s\n",
      "[Parallel(n_jobs=12)]: Done 2568 tasks      | elapsed:   40.6s\n",
      "[Parallel(n_jobs=12)]: Done 2641 tasks      | elapsed:   42.9s\n",
      "[Parallel(n_jobs=12)]: Done 2714 tasks      | elapsed:   45.1s\n",
      "[Parallel(n_jobs=12)]: Done 2789 tasks      | elapsed:   47.5s\n",
      "[Parallel(n_jobs=12)]: Done 2864 tasks      | elapsed:   49.9s\n",
      "[Parallel(n_jobs=12)]: Done 2941 tasks      | elapsed:   52.3s\n",
      "[Parallel(n_jobs=12)]: Done 3018 tasks      | elapsed:   54.8s\n",
      "[Parallel(n_jobs=12)]: Done 3097 tasks      | elapsed:   57.2s\n",
      "[Parallel(n_jobs=12)]: Done 3176 tasks      | elapsed:   59.7s\n",
      "[Parallel(n_jobs=12)]: Done 3257 tasks      | elapsed:  1.0min\n",
      "[Parallel(n_jobs=12)]: Done 3338 tasks      | elapsed:  1.1min\n",
      "[Parallel(n_jobs=12)]: Done 3421 tasks      | elapsed:  1.1min\n",
      "[Parallel(n_jobs=12)]: Done 3504 tasks      | elapsed:  1.2min\n",
      "[Parallel(n_jobs=12)]: Done 3589 tasks      | elapsed:  1.2min\n",
      "[Parallel(n_jobs=12)]: Done 3674 tasks      | elapsed:  1.3min\n",
      "[Parallel(n_jobs=12)]: Done 3761 tasks      | elapsed:  1.3min\n",
      "[Parallel(n_jobs=12)]: Done 3848 tasks      | elapsed:  1.4min\n",
      "[Parallel(n_jobs=12)]: Done 3937 tasks      | elapsed:  1.4min\n",
      "[Parallel(n_jobs=12)]: Done 4026 tasks      | elapsed:  1.5min\n",
      "[Parallel(n_jobs=12)]: Done 4117 tasks      | elapsed:  1.5min\n",
      "[Parallel(n_jobs=12)]: Done 4208 tasks      | elapsed:  1.6min\n",
      "[Parallel(n_jobs=12)]: Done 4301 tasks      | elapsed:  1.6min\n",
      "[Parallel(n_jobs=12)]: Done 4394 tasks      | elapsed:  1.7min\n",
      "[Parallel(n_jobs=12)]: Done 4489 tasks      | elapsed:  1.7min\n",
      "[Parallel(n_jobs=12)]: Done 4584 tasks      | elapsed:  1.7min\n",
      "[Parallel(n_jobs=12)]: Done 4681 tasks      | elapsed:  1.7min\n",
      "[Parallel(n_jobs=12)]: Done 4778 tasks      | elapsed:  1.8min\n",
      "[Parallel(n_jobs=12)]: Done 4877 tasks      | elapsed:  1.8min\n",
      "[Parallel(n_jobs=12)]: Done 4976 tasks      | elapsed:  1.8min\n",
      "[Parallel(n_jobs=12)]: Done 5077 tasks      | elapsed:  1.8min\n",
      "[Parallel(n_jobs=12)]: Done 5178 tasks      | elapsed:  1.9min\n",
      "[Parallel(n_jobs=12)]: Done 5281 tasks      | elapsed:  1.9min\n",
      "[Parallel(n_jobs=12)]: Done 5384 tasks      | elapsed:  1.9min\n",
      "[Parallel(n_jobs=12)]: Done 5489 tasks      | elapsed:  1.9min\n",
      "[Parallel(n_jobs=12)]: Done 5594 tasks      | elapsed:  2.0min\n",
      "[Parallel(n_jobs=12)]: Done 5701 tasks      | elapsed:  2.0min\n",
      "[Parallel(n_jobs=12)]: Done 5808 tasks      | elapsed:  2.0min\n",
      "[Parallel(n_jobs=12)]: Done 5917 tasks      | elapsed:  2.1min\n",
      "[Parallel(n_jobs=12)]: Done 6026 tasks      | elapsed:  2.1min\n",
      "[Parallel(n_jobs=12)]: Done 6137 tasks      | elapsed:  2.1min\n",
      "[Parallel(n_jobs=12)]: Done 6248 tasks      | elapsed:  2.2min\n",
      "[Parallel(n_jobs=12)]: Done 6361 tasks      | elapsed:  2.2min\n",
      "[Parallel(n_jobs=12)]: Done 6474 tasks      | elapsed:  2.2min\n",
      "[Parallel(n_jobs=12)]: Done 6589 tasks      | elapsed:  2.3min\n",
      "[Parallel(n_jobs=12)]: Done 6704 tasks      | elapsed:  2.3min\n",
      "[Parallel(n_jobs=12)]: Done 6821 tasks      | elapsed:  2.4min\n",
      "[Parallel(n_jobs=12)]: Done 6938 tasks      | elapsed:  2.4min\n",
      "[Parallel(n_jobs=12)]: Done 7057 tasks      | elapsed:  2.5min\n",
      "[Parallel(n_jobs=12)]: Done 7176 tasks      | elapsed:  2.5min\n",
      "[Parallel(n_jobs=12)]: Done 7297 tasks      | elapsed:  2.6min\n",
      "[Parallel(n_jobs=12)]: Done 7418 tasks      | elapsed:  2.6min\n",
      "[Parallel(n_jobs=12)]: Done 7541 tasks      | elapsed:  2.7min\n",
      "[Parallel(n_jobs=12)]: Done 7664 tasks      | elapsed:  2.8min\n",
      "[Parallel(n_jobs=12)]: Done 7789 tasks      | elapsed:  2.8min\n",
      "[Parallel(n_jobs=12)]: Done 7914 tasks      | elapsed:  2.9min\n",
      "[Parallel(n_jobs=12)]: Done 8041 tasks      | elapsed:  2.9min\n",
      "[Parallel(n_jobs=12)]: Done 8168 tasks      | elapsed:  3.0min\n",
      "[Parallel(n_jobs=12)]: Done 8297 tasks      | elapsed:  3.1min\n",
      "[Parallel(n_jobs=12)]: Done 8426 tasks      | elapsed:  3.1min\n",
      "[Parallel(n_jobs=12)]: Done 8557 tasks      | elapsed:  3.2min\n",
      "[Parallel(n_jobs=12)]: Batch computation too fast (0.1983s.) Setting batch_size=2.\n",
      "[Parallel(n_jobs=12)]: Done 8688 tasks      | elapsed:  3.2min\n",
      "[Parallel(n_jobs=12)]: Done 8930 tasks      | elapsed:  3.3min\n",
      "[Parallel(n_jobs=12)]: Done 9196 tasks      | elapsed:  3.3min\n",
      "[Parallel(n_jobs=12)]: Done 9466 tasks      | elapsed:  3.3min\n"
     ]
    },
    {
     "name": "stderr",
     "output_type": "stream",
     "text": [
      "[Parallel(n_jobs=12)]: Done 9736 tasks      | elapsed:  3.4min\n",
      "[Parallel(n_jobs=12)]: Done 10010 tasks      | elapsed:  3.4min\n",
      "[Parallel(n_jobs=12)]: Done 10284 tasks      | elapsed:  3.4min\n",
      "[Parallel(n_jobs=12)]: Done 10562 tasks      | elapsed:  3.5min\n",
      "[Parallel(n_jobs=12)]: Done 10840 tasks      | elapsed:  3.5min\n",
      "[Parallel(n_jobs=12)]: Done 11122 tasks      | elapsed:  3.6min\n",
      "[Parallel(n_jobs=12)]: Done 11404 tasks      | elapsed:  3.7min\n",
      "[Parallel(n_jobs=12)]: Done 11690 tasks      | elapsed:  3.8min\n",
      "[Parallel(n_jobs=12)]: Done 11976 tasks      | elapsed:  3.9min\n",
      "[Parallel(n_jobs=12)]: Done 12266 tasks      | elapsed:  4.0min\n",
      "[Parallel(n_jobs=12)]: Done 12556 tasks      | elapsed:  4.1min\n",
      "[Parallel(n_jobs=12)]: Done 12850 tasks      | elapsed:  4.2min\n",
      "[Parallel(n_jobs=12)]: Done 13144 tasks      | elapsed:  4.3min\n",
      "[Parallel(n_jobs=12)]: Done 13442 tasks      | elapsed:  4.3min\n",
      "[Parallel(n_jobs=12)]: Done 13740 tasks      | elapsed:  4.4min\n",
      "[Parallel(n_jobs=12)]: Done 14042 tasks      | elapsed:  4.4min\n",
      "[Parallel(n_jobs=12)]: Done 14344 tasks      | elapsed:  4.5min\n",
      "[Parallel(n_jobs=12)]: Done 14650 tasks      | elapsed:  4.6min\n",
      "[Parallel(n_jobs=12)]: Done 14956 tasks      | elapsed:  4.6min\n",
      "[Parallel(n_jobs=12)]: Done 15266 tasks      | elapsed:  4.7min\n",
      "[Parallel(n_jobs=12)]: Done 15576 tasks      | elapsed:  4.8min\n",
      "[Parallel(n_jobs=12)]: Done 15890 tasks      | elapsed:  4.8min\n",
      "[Parallel(n_jobs=12)]: Done 16204 tasks      | elapsed:  4.9min\n",
      "[Parallel(n_jobs=12)]: Done 16522 tasks      | elapsed:  5.0min\n",
      "[Parallel(n_jobs=12)]: Done 16840 tasks      | elapsed:  5.0min\n",
      "[Parallel(n_jobs=12)]: Done 17162 tasks      | elapsed:  5.1min\n",
      "[Parallel(n_jobs=12)]: Done 17484 tasks      | elapsed:  5.2min\n",
      "[Parallel(n_jobs=12)]: Done 17810 tasks      | elapsed:  5.2min\n",
      "[Parallel(n_jobs=12)]: Done 18136 tasks      | elapsed:  5.2min\n",
      "[Parallel(n_jobs=12)]: Done 18466 tasks      | elapsed:  5.2min\n",
      "[Parallel(n_jobs=12)]: Done 18796 tasks      | elapsed:  5.3min\n",
      "[Parallel(n_jobs=12)]: Done 19130 tasks      | elapsed:  5.3min\n",
      "[Parallel(n_jobs=12)]: Done 19464 tasks      | elapsed:  5.3min\n",
      "[Parallel(n_jobs=12)]: Done 19802 tasks      | elapsed:  5.4min\n",
      "[Parallel(n_jobs=12)]: Done 20140 tasks      | elapsed:  5.5min\n",
      "[Parallel(n_jobs=12)]: Done 20482 tasks      | elapsed:  5.5min\n",
      "[Parallel(n_jobs=12)]: Done 20824 tasks      | elapsed:  5.6min\n",
      "[Parallel(n_jobs=12)]: Done 21170 tasks      | elapsed:  5.7min\n",
      "[Parallel(n_jobs=12)]: Done 21516 tasks      | elapsed:  5.8min\n",
      "[Parallel(n_jobs=12)]: Done 21866 tasks      | elapsed:  5.8min\n",
      "[Parallel(n_jobs=12)]: Done 22216 tasks      | elapsed:  5.9min\n",
      "[Parallel(n_jobs=12)]: Done 22570 tasks      | elapsed:  5.9min\n",
      "[Parallel(n_jobs=12)]: Done 22924 tasks      | elapsed:  6.0min\n",
      "[Parallel(n_jobs=12)]: Done 23282 tasks      | elapsed:  6.0min\n",
      "[Parallel(n_jobs=12)]: Done 23640 tasks      | elapsed:  6.0min\n",
      "[Parallel(n_jobs=12)]: Done 24002 tasks      | elapsed:  6.1min\n",
      "[Parallel(n_jobs=12)]: Done 24364 tasks      | elapsed:  6.1min\n",
      "[Parallel(n_jobs=12)]: Done 24730 tasks      | elapsed:  6.2min\n",
      "[Parallel(n_jobs=12)]: Done 25096 tasks      | elapsed:  6.2min\n",
      "[Parallel(n_jobs=12)]: Done 25466 tasks      | elapsed:  6.2min\n",
      "[Parallel(n_jobs=12)]: Done 25836 tasks      | elapsed:  6.3min\n",
      "[Parallel(n_jobs=12)]: Done 26210 tasks      | elapsed:  6.3min\n",
      "[Parallel(n_jobs=12)]: Done 26584 tasks      | elapsed:  6.4min\n",
      "[Parallel(n_jobs=12)]: Done 26962 tasks      | elapsed:  6.4min\n",
      "[Parallel(n_jobs=12)]: Done 27340 tasks      | elapsed:  6.4min\n",
      "[Parallel(n_jobs=12)]: Done 27722 tasks      | elapsed:  6.5min\n",
      "[Parallel(n_jobs=12)]: Done 28104 tasks      | elapsed:  6.5min\n",
      "[Parallel(n_jobs=12)]: Done 28490 tasks      | elapsed:  6.5min\n",
      "[Parallel(n_jobs=12)]: Done 28876 tasks      | elapsed:  6.6min\n",
      "[Parallel(n_jobs=12)]: Done 29266 tasks      | elapsed:  6.6min\n",
      "[Parallel(n_jobs=12)]: Done 29656 tasks      | elapsed:  6.7min\n",
      "[Parallel(n_jobs=12)]: Done 30050 tasks      | elapsed:  6.7min\n",
      "[Parallel(n_jobs=12)]: Done 30444 tasks      | elapsed:  6.8min\n",
      "[Parallel(n_jobs=12)]: Done 30842 tasks      | elapsed:  6.8min\n",
      "[Parallel(n_jobs=12)]: Done 31240 tasks      | elapsed:  6.9min\n",
      "[Parallel(n_jobs=12)]: Done 31642 tasks      | elapsed:  6.9min\n",
      "[Parallel(n_jobs=12)]: Done 32044 tasks      | elapsed:  7.0min\n",
      "[Parallel(n_jobs=12)]: Done 32450 tasks      | elapsed:  7.0min\n",
      "[Parallel(n_jobs=12)]: Done 32856 tasks      | elapsed:  7.1min\n",
      "[Parallel(n_jobs=12)]: Done 33266 tasks      | elapsed:  7.1min\n",
      "[Parallel(n_jobs=12)]: Done 33676 tasks      | elapsed:  7.2min\n",
      "[Parallel(n_jobs=12)]: Done 34090 tasks      | elapsed:  7.2min\n",
      "[Parallel(n_jobs=12)]: Done 34504 tasks      | elapsed:  7.3min\n",
      "[Parallel(n_jobs=12)]: Done 34922 tasks      | elapsed:  7.4min\n",
      "[Parallel(n_jobs=12)]: Done 35340 tasks      | elapsed:  7.4min\n",
      "[Parallel(n_jobs=12)]: Done 35762 tasks      | elapsed:  7.5min\n",
      "[Parallel(n_jobs=12)]: Done 36184 tasks      | elapsed:  7.6min\n",
      "[Parallel(n_jobs=12)]: Done 36610 tasks      | elapsed:  7.7min\n",
      "[Parallel(n_jobs=12)]: Done 37036 tasks      | elapsed:  7.9min\n",
      "[Parallel(n_jobs=12)]: Done 37466 tasks      | elapsed:  8.1min\n",
      "[Parallel(n_jobs=12)]: Done 37896 tasks      | elapsed:  8.3min\n",
      "[Parallel(n_jobs=12)]: Done 38330 tasks      | elapsed:  8.6min\n",
      "[Parallel(n_jobs=12)]: Done 38764 tasks      | elapsed:  8.8min\n",
      "[Parallel(n_jobs=12)]: Done 39202 tasks      | elapsed:  9.0min\n",
      "[Parallel(n_jobs=12)]: Done 39640 tasks      | elapsed:  9.2min\n",
      "[Parallel(n_jobs=12)]: Done 40082 tasks      | elapsed:  9.3min\n",
      "[Parallel(n_jobs=12)]: Done 40524 tasks      | elapsed:  9.5min\n",
      "[Parallel(n_jobs=12)]: Done 40970 tasks      | elapsed:  9.7min\n",
      "[Parallel(n_jobs=12)]: Done 41416 tasks      | elapsed:  9.9min\n",
      "[Parallel(n_jobs=12)]: Done 41866 tasks      | elapsed: 10.0min\n",
      "[Parallel(n_jobs=12)]: Done 42316 tasks      | elapsed: 10.2min\n",
      "[Parallel(n_jobs=12)]: Done 42770 tasks      | elapsed: 10.4min\n",
      "[Parallel(n_jobs=12)]: Done 43224 tasks      | elapsed: 10.6min\n",
      "[Parallel(n_jobs=12)]: Done 43682 tasks      | elapsed: 10.7min\n",
      "[Parallel(n_jobs=12)]: Done 44140 tasks      | elapsed: 10.7min\n",
      "[Parallel(n_jobs=12)]: Done 44602 tasks      | elapsed: 10.8min\n",
      "[Parallel(n_jobs=12)]: Done 45064 tasks      | elapsed: 10.9min\n",
      "[Parallel(n_jobs=12)]: Done 45530 tasks      | elapsed: 11.0min\n",
      "[Parallel(n_jobs=12)]: Done 45996 tasks      | elapsed: 11.1min\n",
      "[Parallel(n_jobs=12)]: Done 46466 tasks      | elapsed: 11.2min\n",
      "[Parallel(n_jobs=12)]: Done 46936 tasks      | elapsed: 11.4min\n",
      "[Parallel(n_jobs=12)]: Done 47410 tasks      | elapsed: 11.6min\n",
      "[Parallel(n_jobs=12)]: Done 47884 tasks      | elapsed: 11.7min\n",
      "[Parallel(n_jobs=12)]: Done 48362 tasks      | elapsed: 11.8min\n",
      "[Parallel(n_jobs=12)]: Done 48840 tasks      | elapsed: 12.0min\n",
      "[Parallel(n_jobs=12)]: Done 49322 tasks      | elapsed: 12.1min\n",
      "[Parallel(n_jobs=12)]: Done 49804 tasks      | elapsed: 12.3min\n",
      "[Parallel(n_jobs=12)]: Done 50290 tasks      | elapsed: 12.4min\n",
      "[Parallel(n_jobs=12)]: Done 50776 tasks      | elapsed: 12.5min\n",
      "[Parallel(n_jobs=12)]: Done 51266 tasks      | elapsed: 12.6min\n",
      "[Parallel(n_jobs=12)]: Done 51756 tasks      | elapsed: 12.7min\n",
      "[Parallel(n_jobs=12)]: Done 52250 tasks      | elapsed: 12.7min\n",
      "[Parallel(n_jobs=12)]: Done 52744 tasks      | elapsed: 12.8min\n",
      "[Parallel(n_jobs=12)]: Done 53242 tasks      | elapsed: 12.8min\n",
      "[Parallel(n_jobs=12)]: Done 53740 tasks      | elapsed: 12.9min\n",
      "[Parallel(n_jobs=12)]: Done 54242 tasks      | elapsed: 12.9min\n",
      "[Parallel(n_jobs=12)]: Done 54744 tasks      | elapsed: 13.1min\n",
      "[Parallel(n_jobs=12)]: Done 55250 tasks      | elapsed: 13.2min\n",
      "[Parallel(n_jobs=12)]: Done 55756 tasks      | elapsed: 13.3min\n",
      "[Parallel(n_jobs=12)]: Done 56266 tasks      | elapsed: 13.4min\n",
      "[Parallel(n_jobs=12)]: Done 56776 tasks      | elapsed: 13.4min\n",
      "[Parallel(n_jobs=12)]: Done 57290 tasks      | elapsed: 13.5min\n",
      "[Parallel(n_jobs=12)]: Done 57804 tasks      | elapsed: 13.6min\n",
      "[Parallel(n_jobs=12)]: Done 58322 tasks      | elapsed: 13.6min\n",
      "[Parallel(n_jobs=12)]: Done 58840 tasks      | elapsed: 13.7min\n",
      "[Parallel(n_jobs=12)]: Done 59362 tasks      | elapsed: 13.7min\n",
      "[Parallel(n_jobs=12)]: Done 59884 tasks      | elapsed: 13.8min\n",
      "[Parallel(n_jobs=12)]: Done 60410 tasks      | elapsed: 13.9min\n",
      "[Parallel(n_jobs=12)]: Done 60936 tasks      | elapsed: 13.9min\n"
     ]
    },
    {
     "name": "stderr",
     "output_type": "stream",
     "text": [
      "[Parallel(n_jobs=12)]: Done 61466 tasks      | elapsed: 14.0min\n",
      "[Parallel(n_jobs=12)]: Done 61996 tasks      | elapsed: 14.0min\n",
      "[Parallel(n_jobs=12)]: Done 62530 tasks      | elapsed: 14.1min\n",
      "[Parallel(n_jobs=12)]: Done 63064 tasks      | elapsed: 14.1min\n",
      "[Parallel(n_jobs=12)]: Done 63602 tasks      | elapsed: 14.2min\n",
      "[Parallel(n_jobs=12)]: Done 64140 tasks      | elapsed: 14.3min\n",
      "[Parallel(n_jobs=12)]: Done 64682 tasks      | elapsed: 14.3min\n",
      "[Parallel(n_jobs=12)]: Done 65224 tasks      | elapsed: 14.4min\n",
      "[Parallel(n_jobs=12)]: Done 65770 tasks      | elapsed: 14.5min\n",
      "[Parallel(n_jobs=12)]: Done 66316 tasks      | elapsed: 14.5min\n",
      "[Parallel(n_jobs=12)]: Done 66866 tasks      | elapsed: 14.6min\n",
      "[Parallel(n_jobs=12)]: Done 67416 tasks      | elapsed: 14.7min\n",
      "[Parallel(n_jobs=12)]: Done 67970 tasks      | elapsed: 14.7min\n",
      "[Parallel(n_jobs=12)]: Done 68524 tasks      | elapsed: 14.8min\n",
      "[Parallel(n_jobs=12)]: Done 69082 tasks      | elapsed: 14.8min\n",
      "[Parallel(n_jobs=12)]: Done 69640 tasks      | elapsed: 15.0min\n",
      "[Parallel(n_jobs=12)]: Done 70202 tasks      | elapsed: 15.1min\n",
      "[Parallel(n_jobs=12)]: Done 70764 tasks      | elapsed: 15.2min\n",
      "[Parallel(n_jobs=12)]: Done 71330 tasks      | elapsed: 15.3min\n",
      "[Parallel(n_jobs=12)]: Done 71896 tasks      | elapsed: 15.6min\n",
      "[Parallel(n_jobs=12)]: Done 72466 tasks      | elapsed: 15.9min\n",
      "[Parallel(n_jobs=12)]: Done 73036 tasks      | elapsed: 16.2min\n",
      "[Parallel(n_jobs=12)]: Done 73610 tasks      | elapsed: 16.5min\n",
      "[Parallel(n_jobs=12)]: Done 74184 tasks      | elapsed: 16.7min\n",
      "[Parallel(n_jobs=12)]: Done 74762 tasks      | elapsed: 17.0min\n",
      "[Parallel(n_jobs=12)]: Done 75340 tasks      | elapsed: 17.2min\n",
      "[Parallel(n_jobs=12)]: Done 75922 tasks      | elapsed: 17.4min\n",
      "[Parallel(n_jobs=12)]: Done 76504 tasks      | elapsed: 17.5min\n",
      "[Parallel(n_jobs=12)]: Done 77090 tasks      | elapsed: 17.7min\n",
      "[Parallel(n_jobs=12)]: Done 77676 tasks      | elapsed: 17.8min\n",
      "[Parallel(n_jobs=12)]: Done 78266 tasks      | elapsed: 17.9min\n",
      "[Parallel(n_jobs=12)]: Done 78856 tasks      | elapsed: 18.0min\n",
      "[Parallel(n_jobs=12)]: Done 79450 tasks      | elapsed: 18.1min\n",
      "[Parallel(n_jobs=12)]: Done 80044 tasks      | elapsed: 18.2min\n",
      "[Parallel(n_jobs=12)]: Done 80642 tasks      | elapsed: 18.3min\n",
      "[Parallel(n_jobs=12)]: Done 81240 tasks      | elapsed: 18.5min\n",
      "[Parallel(n_jobs=12)]: Done 81842 tasks      | elapsed: 18.7min\n",
      "[Parallel(n_jobs=12)]: Done 82444 tasks      | elapsed: 18.9min\n",
      "[Parallel(n_jobs=12)]: Done 83050 tasks      | elapsed: 19.1min\n",
      "[Parallel(n_jobs=12)]: Done 83656 tasks      | elapsed: 19.2min\n",
      "[Parallel(n_jobs=12)]: Done 84266 tasks      | elapsed: 19.4min\n",
      "[Parallel(n_jobs=12)]: Done 84876 tasks      | elapsed: 19.5min\n",
      "[Parallel(n_jobs=12)]: Done 85490 tasks      | elapsed: 19.6min\n",
      "[Parallel(n_jobs=12)]: Done 86104 tasks      | elapsed: 19.7min\n",
      "[Parallel(n_jobs=12)]: Done 86722 tasks      | elapsed: 19.8min\n",
      "[Parallel(n_jobs=12)]: Done 87340 tasks      | elapsed: 19.8min\n",
      "[Parallel(n_jobs=12)]: Done 87962 tasks      | elapsed: 19.9min\n",
      "[Parallel(n_jobs=12)]: Done 88584 tasks      | elapsed: 19.9min\n",
      "[Parallel(n_jobs=12)]: Done 89210 tasks      | elapsed: 20.1min\n",
      "[Parallel(n_jobs=12)]: Done 89836 tasks      | elapsed: 20.2min\n",
      "[Parallel(n_jobs=12)]: Done 90466 tasks      | elapsed: 20.3min\n",
      "[Parallel(n_jobs=12)]: Done 91096 tasks      | elapsed: 20.4min\n",
      "[Parallel(n_jobs=12)]: Done 91730 tasks      | elapsed: 20.5min\n",
      "[Parallel(n_jobs=12)]: Done 92364 tasks      | elapsed: 20.6min\n",
      "[Parallel(n_jobs=12)]: Done 93002 tasks      | elapsed: 20.7min\n",
      "[Parallel(n_jobs=12)]: Done 93640 tasks      | elapsed: 20.8min\n",
      "[Parallel(n_jobs=12)]: Done 94282 tasks      | elapsed: 20.8min\n",
      "[Parallel(n_jobs=12)]: Done 94924 tasks      | elapsed: 20.9min\n",
      "[Parallel(n_jobs=12)]: Done 95570 tasks      | elapsed: 20.9min\n",
      "[Parallel(n_jobs=12)]: Done 96216 tasks      | elapsed: 21.0min\n",
      "[Parallel(n_jobs=12)]: Done 96866 tasks      | elapsed: 21.1min\n",
      "[Parallel(n_jobs=12)]: Done 97516 tasks      | elapsed: 21.1min\n",
      "[Parallel(n_jobs=12)]: Done 98170 tasks      | elapsed: 21.2min\n",
      "[Parallel(n_jobs=12)]: Done 98824 tasks      | elapsed: 21.3min\n",
      "[Parallel(n_jobs=12)]: Done 99482 tasks      | elapsed: 21.4min\n",
      "[Parallel(n_jobs=12)]: Done 100140 tasks      | elapsed: 21.5min\n",
      "[Parallel(n_jobs=12)]: Done 100802 tasks      | elapsed: 21.5min\n",
      "[Parallel(n_jobs=12)]: Done 101464 tasks      | elapsed: 21.6min\n",
      "[Parallel(n_jobs=12)]: Done 102130 tasks      | elapsed: 21.7min\n",
      "[Parallel(n_jobs=12)]: Done 102796 tasks      | elapsed: 21.8min\n",
      "[Parallel(n_jobs=12)]: Done 103466 tasks      | elapsed: 21.8min\n",
      "[Parallel(n_jobs=12)]: Done 103680 out of 103680 | elapsed: 21.9min finished\n"
     ]
    },
    {
     "name": "stdout",
     "output_type": "stream",
     "text": [
      "        rank      test     train     decay\n",
      "0        265 -0.129954 -0.109072  0.191446\n",
      "1         49 -0.128003 -0.103480  0.236985\n",
      "2         34 -0.127742 -0.102145  0.250588\n",
      "3        153 -0.128812 -0.105621  0.219574\n",
      "4         74 -0.128179 -0.101190  0.266716\n",
      "...      ...       ...       ...       ...\n",
      "10363  10225 -1.051762 -1.062995 -0.010567\n",
      "10364  10153 -1.043500 -1.054650 -0.010572\n",
      "10365  10009 -1.041056 -1.052126 -0.010522\n",
      "10366  10225 -1.051762 -1.062995 -0.010567\n",
      "10367  10153 -1.043500 -1.054650 -0.010572\n",
      "\n",
      "[10368 rows x 4 columns]\n"
     ]
    },
    {
     "ename": "AttributeError",
     "evalue": "'NoneType' object has no attribute 'sort_values'",
     "output_type": "error",
     "traceback": [
      "\u001b[1;31m---------------------------------------------------------------------------\u001b[0m",
      "\u001b[1;31mAttributeError\u001b[0m                            Traceback (most recent call last)",
      "\u001b[1;32m<ipython-input-151-f98d2c12c30f>\u001b[0m in \u001b[0;36m<module>\u001b[1;34m\u001b[0m\n\u001b[0;32m     32\u001b[0m     \u001b[0mnp\u001b[0m\u001b[1;33m.\u001b[0m\u001b[0mlog1p\u001b[0m\u001b[1;33m(\u001b[0m\u001b[0mtrain_df\u001b[0m\u001b[1;33m.\u001b[0m\u001b[0mloc\u001b[0m\u001b[1;33m[\u001b[0m\u001b[1;33m~\u001b[0m\u001b[0mX_train\u001b[0m\u001b[1;33m.\u001b[0m\u001b[0mindex\u001b[0m\u001b[1;33m.\u001b[0m\u001b[0misin\u001b[0m\u001b[1;33m(\u001b[0m\u001b[0moutlier_ids\u001b[0m\u001b[1;33m.\u001b[0m\u001b[0mindex\u001b[0m\u001b[1;33m)\u001b[0m\u001b[1;33m,\u001b[0m \u001b[1;34m'SalePrice'\u001b[0m\u001b[1;33m]\u001b[0m\u001b[1;33m)\u001b[0m\u001b[1;33m\u001b[0m\u001b[1;33m\u001b[0m\u001b[0m\n\u001b[0;32m     33\u001b[0m )\n\u001b[1;32m---> 34\u001b[1;33m print(pd.DataFrame({\n\u001b[0m\u001b[0;32m     35\u001b[0m     \u001b[1;34m'rank'\u001b[0m\u001b[1;33m:\u001b[0m \u001b[0mgbm\u001b[0m\u001b[1;33m.\u001b[0m\u001b[0mcv_results_\u001b[0m\u001b[1;33m[\u001b[0m\u001b[1;34m'rank_test_score'\u001b[0m\u001b[1;33m]\u001b[0m\u001b[1;33m,\u001b[0m\u001b[1;33m\u001b[0m\u001b[1;33m\u001b[0m\u001b[0m\n\u001b[0;32m     36\u001b[0m     \u001b[1;34m'test'\u001b[0m\u001b[1;33m:\u001b[0m \u001b[0mgbm\u001b[0m\u001b[1;33m.\u001b[0m\u001b[0mcv_results_\u001b[0m\u001b[1;33m[\u001b[0m\u001b[1;34m'mean_test_score'\u001b[0m\u001b[1;33m]\u001b[0m\u001b[1;33m,\u001b[0m\u001b[1;33m\u001b[0m\u001b[1;33m\u001b[0m\u001b[0m\n",
      "\u001b[1;31mAttributeError\u001b[0m: 'NoneType' object has no attribute 'sort_values'"
     ]
    }
   ],
   "source": [
    "params = dict(\n",
    "    loss=['ls', 'lad', 'huber', 'quantile'],\n",
    "    learning_rate=[0.1, 0.5],\n",
    "    n_estimators=[200],\n",
    "    subsample=[0.5, 0.75, 0.9],\n",
    "    min_samples_split=[0.1, 0.05],\n",
    "    min_samples_leaf=[0.01, 0.02, 0.03],\n",
    "    max_depth=[3, 4],\n",
    "    random_state=[11],\n",
    "    max_features=['sqrt', 'log2'],\n",
    "    alpha=[0.1, 0.9, 0.99],\n",
    "    max_leaf_nodes=[None, 10, 20],\n",
    "    validation_fraction=[0.1],\n",
    "    n_iter_no_change=[25],\n",
    "    tol=[1e-3],\n",
    "    ccp_alpha=[0.0, 0.2]\n",
    ")\n",
    "\n",
    "gbm = GridSearchCV(\n",
    "    estimator=GradientBoostingRegressor(),\n",
    "    param_grid=params,\n",
    "    scoring=rmsle_tuning,\n",
    "    n_jobs=12,\n",
    "    cv=ShuffleSplit(10, test_size=0.2, random_state=11).split(X_train.loc[~X_train.index.isin(outlier_ids.index)]),\n",
    "    verbose=10,\n",
    "    error_score=np.nan,\n",
    "    return_train_score=True\n",
    ")\n",
    "\n",
    "gbm.fit(\n",
    "    X_train_scaled.loc[~X_train.index.isin(outlier_ids.index)],\n",
    "    np.log1p(train_df.loc[~X_train.index.isin(outlier_ids.index), 'SalePrice'])\n",
    ")\n",
    "print(pd.DataFrame({\n",
    "    'rank': gbm.cv_results_['rank_test_score'], \n",
    "    'test': gbm.cv_results_['mean_test_score'], \n",
    "    'train': gbm.cv_results_['mean_train_score'],\n",
    "    'decay': gbm.cv_results_['mean_test_score'] / gbm.cv_results_['mean_train_score'] - 1}).sort_values('rank').iloc[:20])\n",
    "gbm.best_estimator_"
   ]
  },
  {
   "cell_type": "code",
   "execution_count": 152,
   "metadata": {},
   "outputs": [
    {
     "name": "stdout",
     "output_type": "stream",
     "text": [
      "      rank      test     train     decay\n",
      "7042     1 -0.126708 -0.095720  0.323737\n",
      "130      1 -0.126708 -0.095720  0.323737\n",
      "3586     1 -0.126708 -0.095720  0.323737\n",
      "129      4 -0.127028 -0.101673  0.249374\n",
      "3585     4 -0.127028 -0.101673  0.249374\n",
      "7041     4 -0.127028 -0.101673  0.249374\n",
      "7061     7 -0.127081 -0.092996  0.366518\n",
      "149      7 -0.127081 -0.092996  0.366518\n",
      "3605     7 -0.127081 -0.092996  0.366518\n",
      "3611    10 -0.127107 -0.096045  0.323412\n",
      "155     10 -0.127107 -0.096045  0.323412\n",
      "7067    10 -0.127107 -0.096045  0.323412\n",
      "3583    13 -0.127126 -0.098649  0.288668\n",
      "127     13 -0.127126 -0.098649  0.288668\n",
      "7039    13 -0.127126 -0.098649  0.288668\n",
      "7047    16 -0.127186 -0.105270  0.208191\n",
      "3591    16 -0.127186 -0.105270  0.208191\n",
      "135     16 -0.127186 -0.105270  0.208191\n",
      "7060    19 -0.127209 -0.095185  0.336441\n",
      "3604    19 -0.127209 -0.095185  0.336441\n"
     ]
    },
    {
     "data": {
      "text/plain": [
       "GradientBoostingRegressor(alpha=0.1, max_depth=4, max_features='sqrt',\n",
       "                          max_leaf_nodes=10, min_samples_leaf=0.01,\n",
       "                          min_samples_split=0.05, n_estimators=200,\n",
       "                          n_iter_no_change=25, random_state=11, subsample=0.75,\n",
       "                          tol=0.001)"
      ]
     },
     "execution_count": 152,
     "metadata": {},
     "output_type": "execute_result"
    }
   ],
   "source": [
    "print(pd.DataFrame({\n",
    "    'rank': gbm.cv_results_['rank_test_score'], \n",
    "    'test': gbm.cv_results_['mean_test_score'], \n",
    "    'train': gbm.cv_results_['mean_train_score'],\n",
    "    'decay': gbm.cv_results_['mean_test_score'] / gbm.cv_results_['mean_train_score'] - 1}).sort_values('rank').iloc[:20])\n",
    "gbm.best_estimator_"
   ]
  },
  {
   "cell_type": "code",
   "execution_count": 194,
   "metadata": {},
   "outputs": [],
   "source": [
    "submission_model = ada_lasso"
   ]
  },
  {
   "cell_type": "code",
   "execution_count": 195,
   "metadata": {
    "scrolled": true
   },
   "outputs": [
    {
     "data": {
      "text/plain": [
       "AdaBoostRegressor(base_estimator=Lasso(alpha=0.001, max_iter=5000,\n",
       "                                       random_state=11, tol=1e-06),\n",
       "                  learning_rate=0.0005, loss='exponential', random_state=11)"
      ]
     },
     "execution_count": 195,
     "metadata": {},
     "output_type": "execute_result"
    }
   ],
   "source": [
    "submission_model.fit(X=X_train_pca.loc[~X_train.index.isin(outlier_ids.index)],\n",
    "    y=np.log1p(train_df.loc[~X_train.index.isin(outlier_ids.index), 'SalePrice']))"
   ]
  },
  {
   "cell_type": "code",
   "execution_count": 196,
   "metadata": {},
   "outputs": [
    {
     "name": "stdout",
     "output_type": "stream",
     "text": [
      "     Id      SalePrice\n",
      "0  1461  107736.350621\n",
      "1  1462  169565.171517\n",
      "2  1463  184018.570789\n",
      "3  1464  203668.790146\n",
      "4  1465  182963.720246\n"
     ]
    }
   ],
   "source": [
    "predicted_df = submission_df[['Id']].copy(deep=True)\n",
    "predicted_df['SalePrice'] = np.expm1(submission_model.predict(X_submission_pca))\n",
    "print(predicted_df.head())\n",
    "predicted_df.to_csv('2020-09-10-ada-lasso-PCA-PowerTransformer.csv', index=False)"
   ]
  }
 ],
 "metadata": {
  "kernelspec": {
   "display_name": "Python 3",
   "language": "python",
   "name": "python3"
  },
  "language_info": {
   "codemirror_mode": {
    "name": "ipython",
    "version": 3
   },
   "file_extension": ".py",
   "mimetype": "text/x-python",
   "name": "python",
   "nbconvert_exporter": "python",
   "pygments_lexer": "ipython3",
   "version": "3.8.3"
  }
 },
 "nbformat": 4,
 "nbformat_minor": 4
}
